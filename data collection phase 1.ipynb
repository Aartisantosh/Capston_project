{
 "cells": [
  {
   "cell_type": "markdown",
   "id": "7efdc7d5",
   "metadata": {},
   "source": [
    "Phase 1 Data Collection\n",
    "These websites are used to gather data:\n",
    "\n",
    "https://www.census2011.co.in/sexratio.php\n",
    "\n",
    "https://data.gov.in/resource/stateuts-wise-literacy-rates-census-2001-and-2011\n",
    "\n",
    "https://data.gov.in/search?title=crime\n",
    "\n",
    "https://www.indiaonlinepages.com/population/literacy-rate-in-india.html\n",
    "\n",
    "https://www.wbhealth.gov.in/other_files/2007/14_5.html"
   ]
  },
  {
   "cell_type": "code",
   "execution_count": null,
   "id": "4030ff9f",
   "metadata": {},
   "outputs": [],
   "source": []
  },
  {
   "cell_type": "code",
   "execution_count": null,
   "id": "29f00562",
   "metadata": {},
   "outputs": [],
   "source": []
  }
 ],
 "metadata": {
  "kernelspec": {
   "display_name": "Python 3 (ipykernel)",
   "language": "python",
   "name": "python3"
  },
  "language_info": {
   "codemirror_mode": {
    "name": "ipython",
    "version": 3
   },
   "file_extension": ".py",
   "mimetype": "text/x-python",
   "name": "python",
   "nbconvert_exporter": "python",
   "pygments_lexer": "ipython3",
   "version": "3.10.9"
  }
 },
 "nbformat": 4,
 "nbformat_minor": 5
}
